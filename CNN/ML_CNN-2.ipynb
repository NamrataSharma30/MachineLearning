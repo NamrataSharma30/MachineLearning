{
  "nbformat": 4,
  "nbformat_minor": 0,
  "metadata": {
    "colab": {
      "name": "ML_CNN.ipynb",
      "provenance": []
    },
    "kernelspec": {
      "name": "python3",
      "display_name": "Python 3"
    }
  },
  "cells": [
    {
      "cell_type": "code",
      "metadata": {
        "id": "GiMuLO2_XdV0",
        "colab": {
          "base_uri": "https://localhost:8080/"
        },
        "outputId": "315e4a89-4cf5-4142-eff7-3e565df26bed"
      },
      "source": [
        "import tensorflow as tf\n",
        "import numpy as np\n",
        "import os\n",
        "import distutils\n",
        "#if distutils.version.LooseVersion(tf.__version__) <= '2.0':\n",
        "#    raise Exception('This notebook is compatible with TensorFlow 1.14 or higher, for TensorFlow 1.13 or lower please use the previous version at https://github.com/tensorflow/tpu/blob/r1.13/tools/colab/fashion_mnist.ipynb')\n",
        "\n",
        "#(x_train, y_train), (x_test, y_test) = tf.keras.datasets.mnist.load_data()\n",
        "(x_train, y_train), (x_test, y_test) = tf.keras.datasets.fashion_mnist.load_data()\n",
        "print(x_train.shape)\n",
        "# add empty color dimension\n",
        "x_train = np.expand_dims(x_train, -1)/255\n",
        "x_test = np.expand_dims(x_test, -1)/255\n",
        "# Convert y to one-hot\n",
        "y_train = tf.keras.utils.to_categorical(y_train, 10)\n",
        "y_test = tf.keras.utils.to_categorical(y_test, 10)"
      ],
      "execution_count": null,
      "outputs": [
        {
          "output_type": "stream",
          "text": [
            "(60000, 28, 28)\n"
          ],
          "name": "stdout"
        }
      ]
    },
    {
      "cell_type": "code",
      "metadata": {
        "id": "1-XIw3N0a1QV"
      },
      "source": [
        "import tensorflow as tf\n",
        "from tensorflow.keras.layers import *\n",
        "from keras.models import Model\n",
        "from keras.optimizers import Adam, SGD\n",
        "import numpy as np\n",
        "import matplotlib.pyplot as plt\n",
        "import os\n",
        "import distutils\n",
        "from keras.layers import Dropout\n",
        "\n",
        "def create_model():\n",
        "  model = tf.keras.models.Sequential()\n",
        "  model.add(tf.keras.layers.Conv2D(32, (3, 3), input_shape=(28,28,1), activation='relu'))\n",
        "  model.add(BatchNormalization())\n",
        "  model.add(tf.keras.layers.MaxPooling2D(pool_size=(2, 2)))\n",
        "  model.add(tf.keras.layers.Conv2D(64, (3, 3), activation='relu'))\n",
        "  model.add(BatchNormalization())\n",
        "  model.add(tf.keras.layers.MaxPooling2D(pool_size=(2, 2),padding='same'))\n",
        "  model.add(BatchNormalization())\n",
        "  model.add(tf.keras.layers.Flatten())\n",
        "  model.add(tf.keras.layers.Dense(64,activation ='relu'))\n",
        "  model.add(Dropout(0.5))\n",
        "  model.add(tf.keras.layers.Dense(10,activation = 'softmax'))\n",
        "  return model"
      ],
      "execution_count": 61,
      "outputs": []
    },
    {
      "cell_type": "code",
      "metadata": {
        "id": "7ggCed5Ca9Np",
        "colab": {
          "base_uri": "https://localhost:8080/"
        },
        "outputId": "2f2a37df-ba18-4f9d-e412-ea7fe62f08a9"
      },
      "source": [
        "model = create_model()\n",
        "model.summary()\n",
        "\n",
        "model.compile(loss=\"categorical_crossentropy\", optimizer=\"Adam\", metrics=[\"accuracy\"])\n",
        "\n",
        "history = model.fit(x_train, y_train, batch_size=98, epochs=10, validation_data=(x_test, y_test))"
      ],
      "execution_count": 63,
      "outputs": [
        {
          "output_type": "stream",
          "text": [
            "Model: \"sequential_29\"\n",
            "_________________________________________________________________\n",
            "Layer (type)                 Output Shape              Param #   \n",
            "=================================================================\n",
            "conv2d_56 (Conv2D)           (None, 26, 26, 32)        320       \n",
            "_________________________________________________________________\n",
            "batch_normalization_57 (Batc (None, 26, 26, 32)        128       \n",
            "_________________________________________________________________\n",
            "max_pooling2d_54 (MaxPooling (None, 13, 13, 32)        0         \n",
            "_________________________________________________________________\n",
            "conv2d_57 (Conv2D)           (None, 11, 11, 64)        18496     \n",
            "_________________________________________________________________\n",
            "batch_normalization_58 (Batc (None, 11, 11, 64)        256       \n",
            "_________________________________________________________________\n",
            "max_pooling2d_55 (MaxPooling (None, 6, 6, 64)          0         \n",
            "_________________________________________________________________\n",
            "batch_normalization_59 (Batc (None, 6, 6, 64)          256       \n",
            "_________________________________________________________________\n",
            "flatten_27 (Flatten)         (None, 2304)              0         \n",
            "_________________________________________________________________\n",
            "dense_49 (Dense)             (None, 64)                147520    \n",
            "_________________________________________________________________\n",
            "dropout_19 (Dropout)         (None, 64)                0         \n",
            "_________________________________________________________________\n",
            "dense_50 (Dense)             (None, 10)                650       \n",
            "=================================================================\n",
            "Total params: 167,626\n",
            "Trainable params: 167,306\n",
            "Non-trainable params: 320\n",
            "_________________________________________________________________\n",
            "Epoch 1/10\n",
            "613/613 [==============================] - 66s 107ms/step - loss: 0.5509 - accuracy: 0.8047 - val_loss: 0.3530 - val_accuracy: 0.8717\n",
            "Epoch 2/10\n",
            "613/613 [==============================] - 65s 107ms/step - loss: 0.3657 - accuracy: 0.8698 - val_loss: 0.3106 - val_accuracy: 0.8881\n",
            "Epoch 3/10\n",
            "613/613 [==============================] - 65s 107ms/step - loss: 0.3152 - accuracy: 0.8850 - val_loss: 0.2919 - val_accuracy: 0.8960\n",
            "Epoch 4/10\n",
            "613/613 [==============================] - 65s 106ms/step - loss: 0.2825 - accuracy: 0.8986 - val_loss: 0.2690 - val_accuracy: 0.9037\n",
            "Epoch 5/10\n",
            "613/613 [==============================] - 65s 105ms/step - loss: 0.2631 - accuracy: 0.9049 - val_loss: 0.2699 - val_accuracy: 0.9001\n",
            "Epoch 6/10\n",
            "613/613 [==============================] - 64s 105ms/step - loss: 0.2430 - accuracy: 0.9102 - val_loss: 0.2594 - val_accuracy: 0.9098\n",
            "Epoch 7/10\n",
            "613/613 [==============================] - 69s 112ms/step - loss: 0.2298 - accuracy: 0.9152 - val_loss: 0.2633 - val_accuracy: 0.9081\n",
            "Epoch 8/10\n",
            "613/613 [==============================] - 65s 106ms/step - loss: 0.2175 - accuracy: 0.9198 - val_loss: 0.2675 - val_accuracy: 0.9111\n",
            "Epoch 9/10\n",
            "613/613 [==============================] - 64s 105ms/step - loss: 0.2073 - accuracy: 0.9240 - val_loss: 0.2693 - val_accuracy: 0.9070\n",
            "Epoch 10/10\n",
            "613/613 [==============================] - 65s 105ms/step - loss: 0.1953 - accuracy: 0.9271 - val_loss: 0.2495 - val_accuracy: 0.9163\n"
          ],
          "name": "stdout"
        }
      ]
    },
    {
      "cell_type": "code",
      "metadata": {
        "id": "ck9gFKB5a-mE",
        "colab": {
          "base_uri": "https://localhost:8080/",
          "height": 562
        },
        "outputId": "724398c1-ea24-4933-b8c0-d2e15e1af2ed"
      },
      "source": [
        "fig, ax = plt.subplots()\n",
        "ax.plot(history.history['accuracy'],label = 'train')\n",
        "ax.plot(history.history['val_accuracy'],label = 'test')\n",
        "ax.set_title('Accuracy')\n",
        "ax.legend(loc='lower right')\n",
        "fig, ax = plt.subplots()\n",
        "ax.plot(history.history['loss'],label = 'train')\n",
        "ax.plot(history.history['val_loss'],label = 'test')\n",
        "ax.set_title('Loss')\n",
        "ax.legend(loc='upper right')"
      ],
      "execution_count": 26,
      "outputs": [
        {
          "output_type": "execute_result",
          "data": {
            "text/plain": [
              "<matplotlib.legend.Legend at 0x7f3428df4ba8>"
            ]
          },
          "metadata": {
            "tags": []
          },
          "execution_count": 26
        },
        {
          "output_type": "display_data",
          "data": {
            "image/png": "[encoded data removed]",
            "text/plain": [
              "<Figure size 432x288 with 1 Axes>"
            ]
          },
          "metadata": {
            "tags": [],
            "needs_background": "light"
          }
        },
        {
          "output_type": "display_data",
          "data": {
            "image/png": "[encoded data removed]",
            "text/plain": [
              "<Figure size 432x288 with 1 Axes>"
            ]
          },
          "metadata": {
            "tags": [],
            "needs_background": "light"
          }
        }
      ]
    }
  ]
}